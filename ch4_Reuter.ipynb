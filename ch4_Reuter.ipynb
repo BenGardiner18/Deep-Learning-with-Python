{
  "nbformat": 4,
  "nbformat_minor": 0,
  "metadata": {
    "colab": {
      "provenance": [],
      "collapsed_sections": [],
      "authorship_tag": "ABX9TyP43m26bbWktY3ebeQeXe2Z",
      "include_colab_link": true
    },
    "kernelspec": {
      "name": "python3",
      "display_name": "Python 3"
    },
    "language_info": {
      "name": "python"
    },
    "accelerator": "GPU",
    "gpuClass": "standard"
  },
  "cells": [
    {
      "cell_type": "markdown",
      "metadata": {
        "id": "view-in-github",
        "colab_type": "text"
      },
      "source": [
        "<a href=\"https://colab.research.google.com/github/BenGardiner18/Fran-ois-Chollet-Deep-Learning-with-Python/blob/main/ch4_Reuter.ipynb\" target=\"_parent\"><img src=\"https://colab.research.google.com/assets/colab-badge.svg\" alt=\"Open In Colab\"/></a>"
      ]
    },
    {
      "cell_type": "code",
      "source": [
        "\n",
        "from tensorflow import keras\n",
        "import numpy as np\n",
        "from keras import layers\n",
        "import matplotlib.pyplot as plt"
      ],
      "metadata": {
        "id": "Be6sOYp6HB_A"
      },
      "execution_count": null,
      "outputs": []
    },
    {
      "cell_type": "code",
      "execution_count": null,
      "metadata": {
        "colab": {
          "base_uri": "https://localhost:8080/"
        },
        "id": "F9zC7DQFE4pK",
        "outputId": "1ca683e8-0a1f-457f-dd69-5bcb92ef69bd"
      },
      "outputs": [
        {
          "output_type": "stream",
          "name": "stdout",
          "text": [
            "train data shape:  (8982,)\n"
          ]
        }
      ],
      "source": [
        "# importing Reuters newswire datasets\n",
        "from tensorflow.keras.datasets import reuters\n",
        "(train_data, train_labels), (test_data, test_labels) = reuters.load_data(\n",
        "            num_words=10000)\n",
        "\n",
        "print(\"train data shape: \",train_data.shape)"
      ]
    },
    {
      "cell_type": "code",
      "source": [
        "word_index = reuters.get_word_index()\n",
        "reverse_word_index = dict(\n",
        "  [(value, key) for (key, value) in word_index.items()]) \n",
        "decoded_newswire = \" \".join(\n",
        "  [reverse_word_index.get(i - 3, \"?\") for i in train_data[0]])\n",
        "\n",
        "print(\"original: \",train_data[0])\n",
        "print(\"decoded: \",decoded_newswire)\n",
        "print(\"label: \",train_labels[0])"
      ],
      "metadata": {
        "colab": {
          "base_uri": "https://localhost:8080/"
        },
        "id": "o8FKMEY8E-NX",
        "outputId": "db70584c-6539-4ba7-d684-45c9d7c26491"
      },
      "execution_count": null,
      "outputs": [
        {
          "output_type": "stream",
          "name": "stdout",
          "text": [
            "original:  [1, 2, 2, 8, 43, 10, 447, 5, 25, 207, 270, 5, 3095, 111, 16, 369, 186, 90, 67, 7, 89, 5, 19, 102, 6, 19, 124, 15, 90, 67, 84, 22, 482, 26, 7, 48, 4, 49, 8, 864, 39, 209, 154, 6, 151, 6, 83, 11, 15, 22, 155, 11, 15, 7, 48, 9, 4579, 1005, 504, 6, 258, 6, 272, 11, 15, 22, 134, 44, 11, 15, 16, 8, 197, 1245, 90, 67, 52, 29, 209, 30, 32, 132, 6, 109, 15, 17, 12]\n",
            "decoded:  ? ? ? said as a result of its december acquisition of space co it expects earnings per share in 1987 of 1 15 to 1 30 dlrs per share up from 70 cts in 1986 the company said pretax net should rise to nine to 10 mln dlrs from six mln dlrs in 1986 and rental operation revenues to 19 to 22 mln dlrs from 12 5 mln dlrs it said cash flow per share this year should be 2 50 to three dlrs reuter 3\n",
            "label:  3\n"
          ]
        }
      ]
    },
    {
      "cell_type": "code",
      "source": [
        "# encoding integer sequences via multi-hot encoding\n",
        "def vectorize_sequences(sequences, dimension=10000):\n",
        "  results = np.zeros((len(sequences), dimension))\n",
        "  for i, sequence in enumerate(sequences): \n",
        "    for j in sequence:\n",
        "      results[i, j] = 1. \n",
        "  return results\n",
        "\n",
        "x_train = vectorize_sequences(train_data)\n",
        "x_test = vectorize_sequences(test_data)"
      ],
      "metadata": {
        "colab": {
          "base_uri": "https://localhost:8080/"
        },
        "id": "dEFnRA9sFfqy",
        "outputId": "7a589983-610e-49a5-962a-a275defd96a2"
      },
      "execution_count": null,
      "outputs": [
        {
          "output_type": "stream",
          "name": "stdout",
          "text": [
            "(8982, 10000)\n"
          ]
        }
      ]
    },
    {
      "cell_type": "code",
      "source": [
        "# one hot encoding labels \n",
        "# e.g 4 --> [0,0,0,1,0,...,0]\n",
        "def to_one_hot(labels, dimension=46):\n",
        "  results = np.zeros((len(labels), dimension))\n",
        "  for i, label in enumerate(labels): \n",
        "    results[i, label] = 1.\n",
        "  return results\n",
        "\n",
        "y_train = to_one_hot(train_labels) \n",
        "y_test = to_one_hot(test_labels)\n",
        "\n",
        "y_train.shape"
      ],
      "metadata": {
        "colab": {
          "base_uri": "https://localhost:8080/"
        },
        "id": "p1qdTNM_F0aP",
        "outputId": "231f98a7-b25c-4db4-94a4-9dea24288ba6"
      },
      "execution_count": null,
      "outputs": [
        {
          "output_type": "execute_result",
          "data": {
            "text/plain": [
              "(8982, 46)"
            ]
          },
          "metadata": {},
          "execution_count": 10
        }
      ]
    },
    {
      "cell_type": "code",
      "source": [
        "# model definition\n",
        "model = keras.Sequential([\n",
        "    layers.Dense(64, activation=\"relu\"),\n",
        "    layers.Dense(64, activation=\"relu\"),\n",
        "    layers.Dense(46, activation=\"softmax\")\n",
        "])"
      ],
      "metadata": {
        "id": "ePz6RmmIGFo4"
      },
      "execution_count": null,
      "outputs": []
    },
    {
      "cell_type": "code",
      "source": [
        "# model compilation\n",
        "model.compile(optimizer=\"rmsprop\",\n",
        "                      loss=\"categorical_crossentropy\",\n",
        "                      metrics=[\"accuracy\"])"
      ],
      "metadata": {
        "id": "HjzICQvzG6Qw"
      },
      "execution_count": null,
      "outputs": []
    },
    {
      "cell_type": "code",
      "source": [
        "# separting training data into fitting data and validation data\n",
        "x_val = x_train[:1000]\n",
        "partial_x_train = x_train[1000:]\n",
        "y_val = y_train[:1000]\n",
        "partial_y_train = y_train[1000:]"
      ],
      "metadata": {
        "id": "BWeTHe8BHNHa"
      },
      "execution_count": null,
      "outputs": []
    },
    {
      "cell_type": "code",
      "source": [
        "history = model.fit(partial_x_train,\n",
        "                           partial_y_train,\n",
        "                           epochs=20,\n",
        "                           batch_size=512,\n",
        "                           validation_data=(x_val, y_val))\n"
      ],
      "metadata": {
        "colab": {
          "base_uri": "https://localhost:8080/"
        },
        "id": "tYdx5W24HUob",
        "outputId": "daa1c47f-f8eb-4650-aadb-70313d92db06"
      },
      "execution_count": null,
      "outputs": [
        {
          "output_type": "stream",
          "name": "stdout",
          "text": [
            "Epoch 1/20\n",
            "16/16 [==============================] - 3s 28ms/step - loss: 2.4724 - accuracy: 0.5380 - val_loss: 1.6646 - val_accuracy: 0.6490\n",
            "Epoch 2/20\n",
            "16/16 [==============================] - 0s 16ms/step - loss: 1.3841 - accuracy: 0.7058 - val_loss: 1.3198 - val_accuracy: 0.7030\n",
            "Epoch 3/20\n",
            "16/16 [==============================] - 0s 16ms/step - loss: 1.0481 - accuracy: 0.7689 - val_loss: 1.1613 - val_accuracy: 0.7430\n",
            "Epoch 4/20\n",
            "16/16 [==============================] - 0s 17ms/step - loss: 0.8286 - accuracy: 0.8197 - val_loss: 1.0408 - val_accuracy: 0.7740\n",
            "Epoch 5/20\n",
            "16/16 [==============================] - 0s 16ms/step - loss: 0.6569 - accuracy: 0.8607 - val_loss: 0.9854 - val_accuracy: 0.7880\n",
            "Epoch 6/20\n",
            "16/16 [==============================] - 0s 16ms/step - loss: 0.5193 - accuracy: 0.8909 - val_loss: 0.9481 - val_accuracy: 0.7920\n",
            "Epoch 7/20\n",
            "16/16 [==============================] - 0s 15ms/step - loss: 0.4167 - accuracy: 0.9136 - val_loss: 0.9260 - val_accuracy: 0.8080\n",
            "Epoch 8/20\n",
            "16/16 [==============================] - 0s 15ms/step - loss: 0.3390 - accuracy: 0.9280 - val_loss: 0.9325 - val_accuracy: 0.8050\n",
            "Epoch 9/20\n",
            "16/16 [==============================] - 0s 16ms/step - loss: 0.2767 - accuracy: 0.9386 - val_loss: 0.9554 - val_accuracy: 0.7940\n",
            "Epoch 10/20\n",
            "16/16 [==============================] - 0s 16ms/step - loss: 0.2357 - accuracy: 0.9449 - val_loss: 0.9405 - val_accuracy: 0.8100\n",
            "Epoch 11/20\n",
            "16/16 [==============================] - 0s 16ms/step - loss: 0.2040 - accuracy: 0.9475 - val_loss: 0.9384 - val_accuracy: 0.8050\n",
            "Epoch 12/20\n",
            "16/16 [==============================] - 0s 15ms/step - loss: 0.1792 - accuracy: 0.9520 - val_loss: 0.9338 - val_accuracy: 0.8190\n",
            "Epoch 13/20\n",
            "16/16 [==============================] - 0s 16ms/step - loss: 0.1614 - accuracy: 0.9534 - val_loss: 1.0178 - val_accuracy: 0.7970\n",
            "Epoch 14/20\n",
            "16/16 [==============================] - 0s 16ms/step - loss: 0.1495 - accuracy: 0.9539 - val_loss: 1.0127 - val_accuracy: 0.8160\n",
            "Epoch 15/20\n",
            "16/16 [==============================] - 0s 16ms/step - loss: 0.1400 - accuracy: 0.9555 - val_loss: 1.0101 - val_accuracy: 0.8040\n",
            "Epoch 16/20\n",
            "16/16 [==============================] - 0s 16ms/step - loss: 0.1306 - accuracy: 0.9567 - val_loss: 1.0331 - val_accuracy: 0.8160\n",
            "Epoch 17/20\n",
            "16/16 [==============================] - 0s 16ms/step - loss: 0.1233 - accuracy: 0.9572 - val_loss: 1.0838 - val_accuracy: 0.7940\n",
            "Epoch 18/20\n",
            "16/16 [==============================] - 0s 16ms/step - loss: 0.1192 - accuracy: 0.9579 - val_loss: 1.0940 - val_accuracy: 0.8020\n",
            "Epoch 19/20\n",
            "16/16 [==============================] - 0s 16ms/step - loss: 0.1106 - accuracy: 0.9572 - val_loss: 1.0721 - val_accuracy: 0.8070\n",
            "Epoch 20/20\n",
            "16/16 [==============================] - 0s 15ms/step - loss: 0.1062 - accuracy: 0.9582 - val_loss: 1.1245 - val_accuracy: 0.7950\n"
          ]
        }
      ]
    },
    {
      "cell_type": "code",
      "source": [
        "\n",
        "loss = history.history[\"loss\"]\n",
        "val_loss = history.history[\"val_loss\"]\n",
        "epochs = range(1, len(loss) + 1)\n",
        "plt.plot(epochs, loss, \"bo\", label=\"Training loss\")\n",
        "plt.plot(epochs, val_loss, \"b\", label=\"Validation loss\")\n",
        "plt.title(\"Training and validation loss\")\n",
        "plt.xlabel(\"Epochs\")\n",
        "plt.ylabel(\"Loss\")\n",
        "plt.legend()\n",
        "plt.show()\n"
      ],
      "metadata": {
        "colab": {
          "base_uri": "https://localhost:8080/",
          "height": 295
        },
        "id": "WweY-OPeHWGM",
        "outputId": "9b598be3-f3e8-4bd3-b6ae-4797c897e83c"
      },
      "execution_count": null,
      "outputs": [
        {
          "output_type": "display_data",
          "data": {
            "text/plain": [
              "<Figure size 432x288 with 1 Axes>"
            ],
            "image/png": "[encoded data removed]"
          },
          "metadata": {
            "needs_background": "light"
          }
        }
      ]
    },
    {
      "cell_type": "code",
      "source": [
        "plt.clf()\n",
        "acc = history.history[\"accuracy\"]\n",
        "val_acc = history.history[\"val_accuracy\"]\n",
        "plt.plot(epochs, acc, \"bo\", label=\"Training accuracy\")\n",
        "plt.plot(epochs, val_acc, \"b\", label=\"Validation accuracy\")\n",
        "plt.title(\"Training and validation accuracy\")\n",
        "plt.xlabel(\"Epochs\")\n",
        "plt.ylabel(\"Accuracy\")\n",
        "plt.legend()\n",
        "plt.show()\n"
      ],
      "metadata": {
        "colab": {
          "base_uri": "https://localhost:8080/",
          "height": 295
        },
        "id": "ccsIGKDMHbmf",
        "outputId": "bda4f376-6bb3-41cc-8907-fc0822391bf4"
      },
      "execution_count": null,
      "outputs": [
        {
          "output_type": "display_data",
          "data": {
            "text/plain": [
              "<Figure size 432x288 with 1 Axes>"
            ],
            "image/png": "[encoded data removed]"
          },
          "metadata": {
            "needs_background": "light"
          }
        }
      ]
    },
    {
      "cell_type": "code",
      "source": [
        "model.fit(x_train,\n",
        "  y_train,\n",
        "  epochs=9,\n",
        "  batch_size=512)\n",
        "\n",
        "results = model.evaluate(x_test, y_test)\n",
        "print(\"\\nloss: \",results[0],\"\\naccuracy: \",results[1])\n"
      ],
      "metadata": {
        "colab": {
          "base_uri": "https://localhost:8080/"
        },
        "id": "nCI8mXPBHgSi",
        "outputId": "ae7ae2cd-b765-4d17-d2ce-a9ba851c5a5c"
      },
      "execution_count": null,
      "outputs": [
        {
          "output_type": "stream",
          "name": "stdout",
          "text": [
            "Epoch 1/9\n",
            "18/18 [==============================] - 0s 14ms/step - loss: 0.0824 - accuracy: 0.9570\n",
            "Epoch 2/9\n",
            "18/18 [==============================] - 0s 13ms/step - loss: 0.0836 - accuracy: 0.9560\n",
            "Epoch 3/9\n",
            "18/18 [==============================] - 0s 13ms/step - loss: 0.0848 - accuracy: 0.9550\n",
            "Epoch 4/9\n",
            "18/18 [==============================] - 0s 13ms/step - loss: 0.0818 - accuracy: 0.9567\n",
            "Epoch 5/9\n",
            "18/18 [==============================] - 0s 13ms/step - loss: 0.0809 - accuracy: 0.9562\n",
            "Epoch 6/9\n",
            "18/18 [==============================] - 0s 12ms/step - loss: 0.0811 - accuracy: 0.9569\n",
            "Epoch 7/9\n",
            "18/18 [==============================] - 0s 13ms/step - loss: 0.0801 - accuracy: 0.9554\n",
            "Epoch 8/9\n",
            "18/18 [==============================] - 0s 13ms/step - loss: 0.0802 - accuracy: 0.9571\n",
            "Epoch 9/9\n",
            "18/18 [==============================] - 0s 12ms/step - loss: 0.0780 - accuracy: 0.9557\n",
            "71/71 [==============================] - 0s 3ms/step - loss: 1.6620 - accuracy: 0.7792\n",
            "\n",
            "loss:  1.662014126777649 \n",
            "accuracy:  0.7791629433631897\n"
          ]
        }
      ]
    },
    {
      "cell_type": "code",
      "source": [],
      "metadata": {
        "id": "-WKTSvHqHtfc"
      },
      "execution_count": null,
      "outputs": []
    }
  ]
}