{
  "nbformat": 4,
  "nbformat_minor": 0,
  "metadata": {
    "colab": {
      "provenance": [],
      "collapsed_sections": [],
      "authorship_tag": "ABX9TyPxaf3s5uWA0BFkJxunedcu",
      "include_colab_link": true
    },
    "kernelspec": {
      "name": "python3",
      "display_name": "Python 3"
    },
    "language_info": {
      "name": "python"
    },
    "accelerator": "GPU",
    "gpuClass": "standard"
  },
  "cells": [
    {
      "cell_type": "markdown",
      "metadata": {
        "id": "view-in-github",
        "colab_type": "text"
      },
      "source": [
        "<a href=\"https://colab.research.google.com/github/BenGardiner18/Fran-ois-Chollet-Deep-Learning-with-Python/blob/main/ch10_temp_prediction.ipynb\" target=\"_parent\"><img src=\"https://colab.research.google.com/assets/colab-badge.svg\" alt=\"Open In Colab\"/></a>"
      ]
    },
    {
      "cell_type": "markdown",
      "source": [
        "Downloading and unzipping the data"
      ],
      "metadata": {
        "id": "qH4IYu4ukTXp"
      }
    },
    {
      "cell_type": "code",
      "execution_count": 1,
      "metadata": {
        "colab": {
          "base_uri": "https://localhost:8080/"
        },
        "id": "aGb3BHQgkM8G",
        "outputId": "12ee0943-76dd-472b-c61f-b5f58821ce94"
      },
      "outputs": [
        {
          "output_type": "stream",
          "name": "stdout",
          "text": [
            "--2022-11-10 22:21:34--  https://s3.amazonaws.com/keras-datasets/jena_climate_2009_2016.csv.zip\n",
            "Resolving s3.amazonaws.com (s3.amazonaws.com)... 52.217.42.22\n",
            "Connecting to s3.amazonaws.com (s3.amazonaws.com)|52.217.42.22|:443... connected.\n",
            "HTTP request sent, awaiting response... 200 OK\n",
            "Length: 13565642 (13M) [application/zip]\n",
            "Saving to: ‘jena_climate_2009_2016.csv.zip’\n",
            "\n",
            "jena_climate_2009_2 100%[===================>]  12.94M  5.23MB/s    in 2.5s    \n",
            "\n",
            "2022-11-10 22:21:38 (5.23 MB/s) - ‘jena_climate_2009_2016.csv.zip’ saved [13565642/13565642]\n",
            "\n",
            "Archive:  jena_climate_2009_2016.csv.zip\n",
            "  inflating: jena_climate_2009_2016.csv  \n",
            "  inflating: __MACOSX/._jena_climate_2009_2016.csv  \n"
          ]
        }
      ],
      "source": [
        "!wget https://s3.amazonaws.com/keras-datasets/jena_climate_2009_2016.csv.zip\n",
        "!unzip jena_climate_2009_2016.csv.zip"
      ]
    },
    {
      "cell_type": "code",
      "source": [
        "from tensorflow import keras"
      ],
      "metadata": {
        "id": "oPMwho5-nEz0"
      },
      "execution_count": 2,
      "outputs": []
    },
    {
      "cell_type": "code",
      "source": [
        "import os\n",
        "\n",
        "fname = os.path.join(\"jena_climate_2009_2016.csv\")\n",
        "\n",
        "with open(fname) as f: data = f.read()\n",
        "lines = data.split(\"\\n\") \n",
        "header = lines[0].split(\",\") \n",
        "lines = lines[1:] \n",
        "print(header) # prints the names of the columns \n",
        "print(len(lines)) # prints the number of records of data \n"
      ],
      "metadata": {
        "colab": {
          "base_uri": "https://localhost:8080/"
        },
        "id": "S7Ug_zLXkVIN",
        "outputId": "3996540c-7544-4d0f-f95c-da86feba4628"
      },
      "execution_count": 3,
      "outputs": [
        {
          "output_type": "stream",
          "name": "stdout",
          "text": [
            "['\"Date Time\"', '\"p (mbar)\"', '\"T (degC)\"', '\"Tpot (K)\"', '\"Tdew (degC)\"', '\"rh (%)\"', '\"VPmax (mbar)\"', '\"VPact (mbar)\"', '\"VPdef (mbar)\"', '\"sh (g/kg)\"', '\"H2OC (mmol/mol)\"', '\"rho (g/m**3)\"', '\"wv (m/s)\"', '\"max. wv (m/s)\"', '\"wd (deg)\"']\n",
            "420451\n"
          ]
        }
      ]
    },
    {
      "cell_type": "markdown",
      "source": [
        "Transferring data from csv file to numpy arrays. The temperature array is our y or target and the other attributes like pressure become our training data or x. We're dropping the time column."
      ],
      "metadata": {
        "id": "JBA_nlq3lOkp"
      }
    },
    {
      "cell_type": "code",
      "source": [
        "import numpy as np\n",
        "temperature = np.zeros((len(lines),))\n",
        "raw_data = np.zeros((len(lines), len(header) - 1)) \n",
        "for i, line in enumerate(lines):\n",
        "  values = [float(x) for x in line.split(\",\")[1:]] \n",
        "  temperature[i] = values[1]\n",
        "  raw_data[i, :] = values[:]"
      ],
      "metadata": {
        "id": "fhnNwPiIkbhg"
      },
      "execution_count": 4,
      "outputs": []
    },
    {
      "cell_type": "code",
      "source": [
        "from matplotlib import pyplot as plt \n",
        "plt.plot(range(len(temperature)), temperature)"
      ],
      "metadata": {
        "colab": {
          "base_uri": "https://localhost:8080/",
          "height": 285
        },
        "id": "pZ6UjVxalNGk",
        "outputId": "dd8594cc-d623-491b-f38d-d12f0b135d8e"
      },
      "execution_count": 5,
      "outputs": [
        {
          "output_type": "execute_result",
          "data": {
            "text/plain": [
              "[<matplotlib.lines.Line2D at 0x7f2491b08610>]"
            ]
          },
          "metadata": {},
          "execution_count": 5
        },
        {
          "output_type": "display_data",
          "data": {
            "text/plain": [
              "<Figure size 432x288 with 1 Axes>"
            ],
            "image/png": "[encoded data removed]"
          },
          "metadata": {
            "needs_background": "light"
          }
        }
      ]
    },
    {
      "cell_type": "code",
      "source": [
        "plt.plot(range(1440), temperature[:1440])"
      ],
      "metadata": {
        "colab": {
          "base_uri": "https://localhost:8080/",
          "height": 282
        },
        "id": "Q2crjMNflgJ8",
        "outputId": "da23b220-507b-4c44-905d-14911c372984"
      },
      "execution_count": 6,
      "outputs": [
        {
          "output_type": "execute_result",
          "data": {
            "text/plain": [
              "[<matplotlib.lines.Line2D at 0x7f24915b2f10>]"
            ]
          },
          "metadata": {},
          "execution_count": 6
        },
        {
          "output_type": "display_data",
          "data": {
            "text/plain": [
              "<Figure size 432x288 with 1 Axes>"
            ],
            "image/png": "[encoded data removed]"
          },
          "metadata": {
            "needs_background": "light"
          }
        }
      ]
    },
    {
      "cell_type": "code",
      "source": [
        "num_train_samples = int(0.5 * len(raw_data))\n",
        "num_val_samples = int(0.25 * len(raw_data))\n",
        "num_test_samples = len(raw_data) - num_train_samples - num_val_samples\n",
        "\n",
        "print(\"num_train_samples:\", num_train_samples)\n",
        "print(\"num_val_samples:\", num_val_samples)\n",
        "print(\"num_test_samples:\", num_test_samples)"
      ],
      "metadata": {
        "colab": {
          "base_uri": "https://localhost:8080/"
        },
        "id": "KipMg6DPlmCl",
        "outputId": "a200db95-d8a1-43ca-86cc-1dff081aeb4a"
      },
      "execution_count": 7,
      "outputs": [
        {
          "output_type": "stream",
          "name": "stdout",
          "text": [
            "num_train_samples: 210225\n",
            "num_val_samples: 105112\n",
            "num_test_samples: 105114\n"
          ]
        }
      ]
    },
    {
      "cell_type": "markdown",
      "source": [
        "Since the data for each column has a different scale, we must normalize the data before sending it to the model."
      ],
      "metadata": {
        "id": "cn_ckn2imXEp"
      }
    },
    {
      "cell_type": "code",
      "source": [
        "mean = raw_data[:num_train_samples].mean(axis=0)\n",
        "raw_data -= mean\n",
        "std = raw_data[:num_train_samples].std(axis=0)\n",
        "raw_data /= std"
      ],
      "metadata": {
        "id": "FehNFYlDmE66"
      },
      "execution_count": 8,
      "outputs": []
    },
    {
      "cell_type": "markdown",
      "source": [
        "Creating datasets for train, val, and test"
      ],
      "metadata": {
        "id": "G1AGBilNnA8q"
      }
    },
    {
      "cell_type": "code",
      "source": [
        "sampling_rate = 6\n",
        "sequence_length = 120\n",
        "delay = sampling_rate * (sequence_length + 24 - 1)\n",
        "batch_size = 256\n",
        "\n",
        "# train\n",
        "train_dataset = keras.utils.timeseries_dataset_from_array( \n",
        "    raw_data[:-delay],\n",
        "    targets=temperature[delay:], \n",
        "    sampling_rate=sampling_rate, \n",
        "    sequence_length=sequence_length,\n",
        "    shuffle=True,\n",
        "    batch_size=batch_size,\n",
        "    start_index=0,\n",
        "    end_index=num_train_samples)\n",
        "\n",
        "# val\n",
        "val_dataset = keras.utils.timeseries_dataset_from_array( \n",
        "    raw_data[:-delay],\n",
        "    targets=temperature[delay:], \n",
        "    sampling_rate=sampling_rate, \n",
        "    sequence_length=sequence_length,\n",
        "    shuffle=True,\n",
        "    batch_size=batch_size,\n",
        "    start_index=num_train_samples,\n",
        "    end_index=num_train_samples + num_val_samples)\n",
        "\n",
        "# test\n",
        "test_dataset = keras.utils.timeseries_dataset_from_array( \n",
        "    raw_data[:-delay],\n",
        "    targets=temperature[delay:], \n",
        "    sampling_rate=sampling_rate, \n",
        "    sequence_length=sequence_length,\n",
        "    shuffle=True,\n",
        "    batch_size=batch_size, \n",
        "    start_index=num_train_samples + num_val_samples)"
      ],
      "metadata": {
        "id": "yCcUKnZJmdPK"
      },
      "execution_count": 9,
      "outputs": []
    },
    {
      "cell_type": "markdown",
      "source": [
        "Developing a very basic common sense model to predict the weather. This will act as our baseline to try to beat. This model simply looks at yesterday's temeprature and assumes it'll be the same as todays."
      ],
      "metadata": {
        "id": "m3WMvr2RoPnz"
      }
    },
    {
      "cell_type": "code",
      "source": [
        "def evaluate_naive_method(dataset): \n",
        "  total_abs_err = 0.\n",
        "  samples_seen = 0\n",
        "  for samples, targets in dataset:\n",
        "          preds = samples[:, -1, 1] * std[1] + mean[1]\n",
        "          total_abs_err += np.sum(np.abs(preds - targets))\n",
        "          samples_seen += samples.shape[0]\n",
        "  return total_abs_err / samples_seen\n",
        "\n",
        "print(f\"Validation MAE: {evaluate_naive_method(val_dataset):.2f}\")\n",
        "print(f\"Test MAE: {evaluate_naive_method(test_dataset):.2f}\")"
      ],
      "metadata": {
        "colab": {
          "base_uri": "https://localhost:8080/"
        },
        "id": "w1e1UxjSnDSA",
        "outputId": "e9349788-c29e-4f32-d3ab-d1884ecd2862"
      },
      "execution_count": 10,
      "outputs": [
        {
          "output_type": "stream",
          "name": "stdout",
          "text": [
            "Validation MAE: 2.44\n",
            "Test MAE: 2.62\n"
          ]
        }
      ]
    },
    {
      "cell_type": "markdown",
      "source": [
        "# Dense Layers"
      ],
      "metadata": {
        "id": "pA1NAkrmrGj1"
      }
    },
    {
      "cell_type": "code",
      "source": [
        "from tensorflow.keras import layers\n",
        "\n",
        "\n",
        "inputs = keras.Input(shape=(sequence_length, raw_data.shape[-1]))\n",
        "x = layers.Flatten()(inputs)\n",
        "x = layers.Dense(16, activation=\"relu\")(x)\n",
        "outputs = layers.Dense(1)(x)\n",
        "model = keras.Model(inputs, outputs)\n",
        "\n",
        "callbacks = [\n",
        "    keras.callbacks.ModelCheckpoint(\"jena_dense.keras\",save_best_only=True)\n",
        "]\n",
        "\n",
        "model.compile(optimizer=\"rmsprop\", loss=\"mse\", metrics=[\"mae\"])\n",
        "\n",
        "history = model.fit(\n",
        "    train_dataset,\n",
        "    epochs=10,\n",
        "    validation_data=val_dataset,\n",
        "    callbacks=callbacks)\n",
        "\n",
        "model = keras.models.load_model(\"jena_dense.keras\") \n",
        "print(f\"Test MAE: {model.evaluate(test_dataset)[1]:.2f}\")"
      ],
      "metadata": {
        "colab": {
          "base_uri": "https://localhost:8080/"
        },
        "id": "GmXePTGenh2J",
        "outputId": "9313ad1e-1ef2-409c-c0cb-c5cd089c03b8"
      },
      "execution_count": 11,
      "outputs": [
        {
          "output_type": "stream",
          "name": "stdout",
          "text": [
            "Epoch 1/10\n",
            "819/819 [==============================] - 46s 52ms/step - loss: 14.6535 - mae: 2.9371 - val_loss: 11.9499 - val_mae: 2.7419\n",
            "Epoch 2/10\n",
            "819/819 [==============================] - 37s 45ms/step - loss: 9.3829 - mae: 2.4107 - val_loss: 10.0420 - val_mae: 2.5098\n",
            "Epoch 3/10\n",
            "819/819 [==============================] - 38s 46ms/step - loss: 8.6074 - mae: 2.3150 - val_loss: 10.5678 - val_mae: 2.5830\n",
            "Epoch 4/10\n",
            "819/819 [==============================] - 39s 47ms/step - loss: 8.1475 - mae: 2.2567 - val_loss: 11.3937 - val_mae: 2.6816\n",
            "Epoch 5/10\n",
            "819/819 [==============================] - 43s 52ms/step - loss: 7.8323 - mae: 2.2128 - val_loss: 10.5697 - val_mae: 2.5866\n",
            "Epoch 6/10\n",
            "819/819 [==============================] - 43s 53ms/step - loss: 7.5679 - mae: 2.1744 - val_loss: 11.0109 - val_mae: 2.6348\n",
            "Epoch 7/10\n",
            "819/819 [==============================] - 37s 45ms/step - loss: 7.3829 - mae: 2.1508 - val_loss: 13.1118 - val_mae: 2.8846\n",
            "Epoch 8/10\n",
            "819/819 [==============================] - 37s 45ms/step - loss: 7.2292 - mae: 2.1279 - val_loss: 11.1003 - val_mae: 2.6520\n",
            "Epoch 9/10\n",
            "819/819 [==============================] - 38s 46ms/step - loss: 7.0989 - mae: 2.1088 - val_loss: 13.0370 - val_mae: 2.8695\n",
            "Epoch 10/10\n",
            "819/819 [==============================] - 40s 49ms/step - loss: 6.9585 - mae: 2.0858 - val_loss: 11.0586 - val_mae: 2.6409\n",
            "405/405 [==============================] - 16s 39ms/step - loss: 11.4851 - mae: 2.6502\n",
            "Test MAE: 2.65\n"
          ]
        }
      ]
    },
    {
      "cell_type": "code",
      "source": [
        "import matplotlib.pyplot as plt\n",
        "\n",
        "loss = history.history[\"mae\"] \n",
        "val_loss = history.history[\"val_mae\"] \n",
        "epochs = range(1, len(loss) + 1) \n",
        "plt.figure()\n",
        "plt.plot(epochs, loss, \"bo\", label=\"Training MAE\")\n",
        "plt.plot(epochs, val_loss, \"b\", label=\"Validation MAE\")\n",
        "plt.title(\"Training and validation MAE\")\n",
        "plt.legend()\n",
        "plt.show()"
      ],
      "metadata": {
        "colab": {
          "base_uri": "https://localhost:8080/",
          "height": 281
        },
        "id": "4WGBJrKgplLV",
        "outputId": "5d378b60-d147-4785-ec11-613aa60d3b2d"
      },
      "execution_count": 12,
      "outputs": [
        {
          "output_type": "display_data",
          "data": {
            "text/plain": [
              "<Figure size 432x288 with 1 Axes>"
            ],
            "image/png": "[encoded data removed]"
          },
          "metadata": {
            "needs_background": "light"
          }
        }
      ]
    },
    {
      "cell_type": "markdown",
      "source": [
        "# 1D Covnets "
      ],
      "metadata": {
        "id": "fv0aZ8ucrJr2"
      }
    },
    {
      "cell_type": "code",
      "source": [
        "inputs = keras.Input(shape=(sequence_length, raw_data.shape[-1]))\n",
        "x = layers.Conv1D(8, 24, activation=\"relu\")(inputs)\n",
        "x = layers.MaxPooling1D(2)(x)\n",
        "x = layers.Conv1D(8, 12, activation=\"relu\")(x)\n",
        "x = layers.MaxPooling1D(2)(x)\n",
        "x = layers.Conv1D(8, 6, activation=\"relu\")(x)\n",
        "x = layers.GlobalAveragePooling1D()(x)\n",
        "outputs = layers.Dense(1)(x)\n",
        "model = keras.Model(inputs, outputs)\n",
        "\n",
        "\n",
        "callbacks = [\n",
        "    keras.callbacks.ModelCheckpoint(\"jena_conv.keras\",\n",
        "                                    save_best_only=True)\n",
        "]\n",
        "\n",
        "model.compile(optimizer=\"rmsprop\", loss=\"mse\", metrics=[\"mae\"])\n",
        "\n",
        "history = model.fit(\n",
        "    train_dataset,\n",
        "    epochs=10,\n",
        "    validation_data=val_dataset,\n",
        "    callbacks=callbacks)\n",
        "\n",
        "model = keras.models.load_model(\"jena_conv.keras\") \n",
        "print(f\"Test MAE: {model.evaluate(test_dataset)[1]:.2f}\")"
      ],
      "metadata": {
        "colab": {
          "base_uri": "https://localhost:8080/"
        },
        "id": "Trn2lbJ1qU33",
        "outputId": "28adf391-e46e-49a5-bc89-efbda86799ef"
      },
      "execution_count": 13,
      "outputs": [
        {
          "output_type": "stream",
          "name": "stdout",
          "text": [
            "Epoch 1/10\n",
            "819/819 [==============================] - 53s 57ms/step - loss: 22.6526 - mae: 3.7416 - val_loss: 16.1843 - val_mae: 3.1794\n",
            "Epoch 2/10\n",
            "819/819 [==============================] - 39s 48ms/step - loss: 15.4528 - mae: 3.1276 - val_loss: 14.1922 - val_mae: 2.9852\n",
            "Epoch 3/10\n",
            "819/819 [==============================] - 40s 49ms/step - loss: 14.1654 - mae: 2.9864 - val_loss: 15.6962 - val_mae: 3.1413\n",
            "Epoch 4/10\n",
            "819/819 [==============================] - 39s 48ms/step - loss: 13.4841 - mae: 2.9107 - val_loss: 14.5418 - val_mae: 3.0147\n",
            "Epoch 5/10\n",
            "819/819 [==============================] - 39s 48ms/step - loss: 12.9644 - mae: 2.8518 - val_loss: 14.3991 - val_mae: 2.9898\n",
            "Epoch 6/10\n",
            "819/819 [==============================] - 40s 49ms/step - loss: 12.5594 - mae: 2.8046 - val_loss: 14.5720 - val_mae: 3.0056\n",
            "Epoch 7/10\n",
            "819/819 [==============================] - 39s 48ms/step - loss: 12.2013 - mae: 2.7630 - val_loss: 14.9758 - val_mae: 3.0665\n",
            "Epoch 8/10\n",
            "819/819 [==============================] - 40s 48ms/step - loss: 11.8766 - mae: 2.7247 - val_loss: 15.8270 - val_mae: 3.1395\n",
            "Epoch 9/10\n",
            "819/819 [==============================] - 39s 48ms/step - loss: 11.5656 - mae: 2.6886 - val_loss: 14.5901 - val_mae: 3.0156\n",
            "Epoch 10/10\n",
            "819/819 [==============================] - 40s 48ms/step - loss: 11.2535 - mae: 2.6524 - val_loss: 15.5679 - val_mae: 3.1086\n",
            "405/405 [==============================] - 14s 33ms/step - loss: 16.0555 - mae: 3.1707\n",
            "Test MAE: 3.17\n"
          ]
        }
      ]
    },
    {
      "cell_type": "code",
      "source": [
        "loss = history.history[\"mae\"] \n",
        "val_loss = history.history[\"val_mae\"] \n",
        "epochs = range(1, len(loss) + 1) \n",
        "plt.figure()\n",
        "plt.plot(epochs, loss, \"bo\", label=\"Training MAE\")\n",
        "plt.plot(epochs, val_loss, \"b\", label=\"Validation MAE\")\n",
        "plt.title(\"Training and validation MAE\")\n",
        "plt.legend()\n",
        "plt.show()"
      ],
      "metadata": {
        "colab": {
          "base_uri": "https://localhost:8080/",
          "height": 281
        },
        "id": "d6CGtEMPrEhI",
        "outputId": "52b453b6-8853-4ed4-d19e-547c4b8b1b22"
      },
      "execution_count": 14,
      "outputs": [
        {
          "output_type": "display_data",
          "data": {
            "text/plain": [
              "<Figure size 432x288 with 1 Axes>"
            ],
            "image/png": "[encoded data removed]"
          },
          "metadata": {
            "needs_background": "light"
          }
        }
      ]
    },
    {
      "cell_type": "markdown",
      "source": [
        "# LSTM Layers"
      ],
      "metadata": {
        "id": "A9Bx8Li6rM_2"
      }
    },
    {
      "cell_type": "code",
      "source": [
        "inputs = keras.Input(shape=(sequence_length, raw_data.shape[-1]))\n",
        "x = layers.LSTM(16)(inputs)\n",
        "outputs = layers.Dense(1)(x)\n",
        "model = keras.Model(inputs, outputs)\n",
        "\n",
        "callbacks = [\n",
        "    keras.callbacks.ModelCheckpoint(\n",
        "        \"jena_lstm.keras\",\n",
        "        save_best_only=True)\n",
        "]\n",
        "model.compile(optimizer=\"rmsprop\", loss=\"mse\", metrics=[\"mae\"])\n",
        "history = model.fit(\n",
        "    train_dataset,\n",
        "    epochs=10,\n",
        "    validation_data=val_dataset,\n",
        "    callbacks=callbacks)\n",
        "\n",
        "model = keras.models.load_model(\"jena_lstm.keras\")\n",
        "print(f\"Test MAE: {model.evaluate(test_dataset)[1]:.2f}\")"
      ],
      "metadata": {
        "colab": {
          "base_uri": "https://localhost:8080/"
        },
        "id": "k5gvTrlErEtY",
        "outputId": "efafc8b2-2efb-4eac-a975-208dde9fbc31"
      },
      "execution_count": 15,
      "outputs": [
        {
          "output_type": "stream",
          "name": "stdout",
          "text": [
            "Epoch 1/10\n",
            "819/819 [==============================] - 45s 51ms/step - loss: 44.6624 - mae: 4.8893 - val_loss: 14.0182 - val_mae: 2.8169\n",
            "Epoch 2/10\n",
            "819/819 [==============================] - 42s 51ms/step - loss: 11.0565 - mae: 2.5759 - val_loss: 9.3659 - val_mae: 2.3812\n",
            "Epoch 3/10\n",
            "819/819 [==============================] - 46s 56ms/step - loss: 9.7688 - mae: 2.4307 - val_loss: 9.5609 - val_mae: 2.4016\n",
            "Epoch 4/10\n",
            "819/819 [==============================] - 43s 52ms/step - loss: 9.3692 - mae: 2.3781 - val_loss: 9.3851 - val_mae: 2.3790\n",
            "Epoch 5/10\n",
            "819/819 [==============================] - 43s 52ms/step - loss: 9.0882 - mae: 2.3422 - val_loss: 9.2707 - val_mae: 2.3700\n",
            "Epoch 6/10\n",
            "819/819 [==============================] - 42s 52ms/step - loss: 8.7878 - mae: 2.3044 - val_loss: 9.2757 - val_mae: 2.3756\n",
            "Epoch 7/10\n",
            "819/819 [==============================] - 42s 51ms/step - loss: 8.5802 - mae: 2.2769 - val_loss: 9.4853 - val_mae: 2.3929\n",
            "Epoch 8/10\n",
            "819/819 [==============================] - 43s 52ms/step - loss: 8.3856 - mae: 2.2517 - val_loss: 9.4666 - val_mae: 2.4003\n",
            "Epoch 9/10\n",
            "819/819 [==============================] - 42s 51ms/step - loss: 8.1627 - mae: 2.2233 - val_loss: 9.6952 - val_mae: 2.4315\n",
            "Epoch 10/10\n",
            "819/819 [==============================] - 42s 51ms/step - loss: 7.9711 - mae: 2.1985 - val_loss: 9.9490 - val_mae: 2.4667\n",
            "405/405 [==============================] - 14s 32ms/step - loss: 10.7382 - mae: 2.5828\n",
            "Test MAE: 2.58\n"
          ]
        }
      ]
    },
    {
      "cell_type": "code",
      "source": [
        "loss = history.history[\"mae\"] \n",
        "val_loss = history.history[\"val_mae\"] \n",
        "epochs = range(1, len(loss) + 1) \n",
        "plt.figure()\n",
        "plt.plot(epochs, loss, \"bo\", label=\"Training MAE\")\n",
        "plt.plot(epochs, val_loss, \"b\", label=\"Validation MAE\")\n",
        "plt.title(\"Training and validation MAE\")\n",
        "plt.legend()\n",
        "plt.show()"
      ],
      "metadata": {
        "colab": {
          "base_uri": "https://localhost:8080/",
          "height": 281
        },
        "id": "ezyFRfOrrfEG",
        "outputId": "3af84558-7ffb-4304-d195-ee0bb9650ba3"
      },
      "execution_count": 16,
      "outputs": [
        {
          "output_type": "display_data",
          "data": {
            "text/plain": [
              "<Figure size 432x288 with 1 Axes>"
            ],
            "image/png": "[encoded data removed]"
          },
          "metadata": {
            "needs_background": "light"
          }
        }
      ]
    },
    {
      "cell_type": "markdown",
      "source": [
        "This model narrowly beats the baseline!"
      ],
      "metadata": {
        "id": "Cz30bTIfrfYr"
      }
    },
    {
      "cell_type": "markdown",
      "source": [
        "# Simple RNN Layer"
      ],
      "metadata": {
        "id": "DpXHbyRGuRlk"
      }
    },
    {
      "cell_type": "code",
      "source": [
        "num_features = 14\n",
        "steps = 120\n",
        "\n",
        "inputs = keras.Input(shape=(steps, num_features))\n",
        "x = layers.SimpleRNN(16, return_sequences=True)(inputs) \n",
        "x = layers.SimpleRNN(16, return_sequences=True)(x) \n",
        "outputs = layers.SimpleRNN(16)(x)\n",
        "outputs.shape"
      ],
      "metadata": {
        "colab": {
          "base_uri": "https://localhost:8080/"
        },
        "id": "j53q5O-KuTzK",
        "outputId": "0cdc3d6a-6695-4473-cdd1-2d7c218b60dc"
      },
      "execution_count": 19,
      "outputs": [
        {
          "output_type": "execute_result",
          "data": {
            "text/plain": [
              "TensorShape([None, 16])"
            ]
          },
          "metadata": {},
          "execution_count": 19
        }
      ]
    },
    {
      "cell_type": "code",
      "source": [],
      "metadata": {
        "id": "2gkTfUvzwsWa"
      },
      "execution_count": null,
      "outputs": []
    }
  ]
}